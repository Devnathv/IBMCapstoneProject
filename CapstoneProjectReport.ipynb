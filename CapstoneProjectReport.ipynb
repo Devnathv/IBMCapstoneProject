{
 "cells": [
  {
   "cell_type": "markdown",
   "metadata": {},
   "source": [
    "# Problem Description\n",
    "Wake county located in North Carolina is one of the fastest growing counties in the USA with large influx of immigrants from other states and nationalities calling it their home.The major city Raleigh is situated in wake county has a high concentration of highly educated workforce with a good mix of young and middle aged population drives the economy of the state and opens up tremendous possibilities for new businesses to thrive.North carolina has been influenced greatly by settlers from New England and Hispanic immigrants.North carolina is also famous for its barbecue and bacon but other cuisines are starting to becoming popular. This opens up a possibility to create a recommender system for anyone who wants to open a new restaurant that can be successful in the area.We will attempt to determine a good location to open a new restaurant by exploring the neighbourhoods for restaurants distribution  within Raleigh using recently learnt data science techniques\n",
    "\n",
    "The following datasets will be used for our assessment\n",
    "Raleigh restaurants info using Foursquare\n",
    "Raleigh Neighbourhoods \n",
    "1. https://en.wikipedia.org/wiki/Raleigh,_North_Carolina_neighborhoods \n",
    "2. https://en.wikipedia.org/wiki/Category:Neighborhoods_in_Raleigh,_North_Carolina\n",
    "3. Restaraunt density data from Foursquare apis\n",
    "4. Types of restaurants based on cuisines\n",
    "\n",
    "## Data exploration and Presentation \n",
    "The data from the above datasets will be read via pandas dataframe and cleaned up to classify Restaurants to Neeighbouhoods.Then we will be able to cluster the restaurants in the area and as well as correlate the quality of restaurants again based on cuisine to the neighbourhood which would potentially provide us insights on the type of restaurant that can be setup. We will then perform data clustering using KNN on the restaurant data and generate visualisation plots and graphs that will aid in the final decision\n",
    "Recommendation Success Criteria using "
   ]
  },
  {
   "cell_type": "markdown",
   "metadata": {},
   "source": []
  }
 ],
 "metadata": {
  "kernelspec": {
   "display_name": "Python 3",
   "language": "python",
   "name": "python3"
  },
  "language_info": {
   "codemirror_mode": {
    "name": "ipython",
    "version": 3
   },
   "file_extension": ".py",
   "mimetype": "text/x-python",
   "name": "python",
   "nbconvert_exporter": "python",
   "pygments_lexer": "ipython3",
   "version": "3.7.4"
  }
 },
 "nbformat": 4,
 "nbformat_minor": 2
}
