{
 "cells": [
  {
   "cell_type": "markdown",
   "metadata": {},
   "source": [
    "Problem Description\n",
    "Wak county located in North Carolina is one of the fastest growing counties in the USA large influx of immigrants from other states and nationalities calling it their home.The major city Raleigh is situated in wake county has a high concentration of highly educated workforce with a good mix of young and middle aged population drives the economy of the state and opens up tremendous possibilities for new businesses to thrive.North carolina has been influenced greatly by settlers from New England and Hispanic immigrants.North carolina is also famous for its barbecue and bacon but other cuisines are starting to becoming popular. This opens up a possibility to create a recommender system for anyone who wants to open a new restaurant that can be successful in the area based on the information.We will explore what is the distribution of cuisine types and identify their popularity and attempt to determine a good location to open a new restaurant based on this information\n",
    "\n",
    "\n",
    "Existing restaurants density in the area(To identify any untapped market)\n",
    "Types of restaurants based on cuisines\n",
    "Existing Restaurant quality based on reviews and food inspections\n",
    "Farmer's Market around the various neighbourhood\n",
    "Wake county has 12 Towns and 46 Communities and for this work we will obtain the following datasets from https://data-wake.opendata.arcgis.com/datasets\n",
    "\n",
    "Raleigh restaurants Datasets(csv)\n",
    "Raleigh food inspections datasets(csv)\n",
    "Raleigh demographic information(csv)\n",
    "Farmers Market http://www.wakegov.com/humanservices/publichealth/information/promotion/Pages/farmersmarkets.aspx The data from the above datasets will be read via pandas dataframe and cleaned up to classify Restaurants to Townships and and quality index score.Then we will be able to cluster the restaurants in the area and as well as correlate the quality of restaurants again based on cuisine to the neighbourhood which would potentially provide us insights on the type of restaurant that can be setup. We will be using Foursquare api to obtain restaurant reviews in the locality to do additional correlation that will strengthen the model.We will finally demonstrate the efficacy with vuisualisation plots and graphs that will aid in the final decision\n",
    "Recommendation Success Criteria\n",
    "We will determine the success of the recommender system by providing potential locations it can be set up for maximum success"
   ]
  }
 ],
 "metadata": {
  "kernelspec": {
   "display_name": "Python 3",
   "language": "python",
   "name": "python3"
  },
  "language_info": {
   "codemirror_mode": {
    "name": "ipython",
    "version": 3
   },
   "file_extension": ".py",
   "mimetype": "text/x-python",
   "name": "python",
   "nbconvert_exporter": "python",
   "pygments_lexer": "ipython3",
   "version": "3.7.4"
  }
 },
 "nbformat": 4,
 "nbformat_minor": 2
}
